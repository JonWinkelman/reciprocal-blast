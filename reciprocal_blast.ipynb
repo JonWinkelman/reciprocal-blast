{
 "cells": [
  {
   "cell_type": "code",
   "execution_count": 6,
   "id": "10bed12a-4d13-4ff2-8141-e8808f208029",
   "metadata": {},
   "outputs": [
    {
     "name": "stdout",
     "output_type": "stream",
     "text": [
      "Cloning into 'jw_utils'...\n",
      "remote: Enumerating objects: 224, done.\u001b[K\n",
      "remote: Counting objects: 100% (39/39), done.\u001b[K\n",
      "remote: Compressing objects: 100% (30/30), done.\u001b[K\n",
      "remote: Total 224 (delta 17), reused 28 (delta 9), pack-reused 185 (from 1)\u001b[K\n",
      "Receiving objects: 100% (224/224), 74.33 KiB | 1.73 MiB/s, done.\n",
      "Resolving deltas: 100% (123/123), done.\n"
     ]
    }
   ],
   "source": [
    "!git clone https://github.com/JonWinkelman/jw_utils.git\n",
    "import os\n",
    "import pandas as pd\n",
    "from jw_utils import parse_fasta as pfa\n",
    "from jw_utils import ncbi_utils as nu\n",
    "\n",
    "from Bio import Phylo\n",
    "from Bio import SeqIO\n",
    "from plotly.subplots import make_subplots\n",
    "from plotly import graph_objects as go\n",
    "import plotly.io as pio\n",
    "import reciprocal_blast as rb"
   ]
  },
  {
   "cell_type": "markdown",
   "id": "cf597c94-f701-4e0e-b7f3-d2682cdfaac4",
   "metadata": {},
   "source": [
    "### Fill out\n",
    "- need dir with fasta proteomes.\n",
    "- reference proteome\n",
    "- query protein from reference in fasta format"
   ]
  },
  {
   "cell_type": "code",
   "execution_count": null,
   "id": "49a64be9-79f8-4aa4-aa39-86388e9939b7",
   "metadata": {},
   "outputs": [],
   "source": []
  },
  {
   "cell_type": "code",
   "execution_count": null,
   "id": "004f2e1c-e552-4c05-8b6f-325183d40799",
   "metadata": {},
   "outputs": [],
   "source": []
  },
  {
   "cell_type": "code",
   "execution_count": 7,
   "id": "e1c88938-bb2b-44b2-be2b-b28fd8261286",
   "metadata": {},
   "outputs": [],
   "source": [
    "#query_gene_name='PA14_20480'\n",
    "query_protein_name = 'ABJ12623.1'\n",
    "query_file = 'GCA_000014625_1_PA14_20480.faa'\n",
    "proteome_dir = './Proteomes/'\n",
    "reference_proteome_path = os.path.join(proteome_dir, 'GCA_000014625.1.faa')\n"
   ]
  },
  {
   "cell_type": "code",
   "execution_count": 8,
   "id": "8c9d5b78-6606-425f-b063-8fde2e0fe7a0",
   "metadata": {},
   "outputs": [],
   "source": [
    "database_dir = './blast_db/'\n",
    "out_dirname = './rblast_results_' + query_file.replace('.faa', '').strip('.').strip('/')\n",
    "accessions_to_include = [f.strip('.faa') for f in os.listdir(proteome_dir) if f.endswith('.faa')]"
   ]
  },
  {
   "cell_type": "code",
   "execution_count": 9,
   "id": "e6f14c8c-53d6-42a5-91c2-efbe9638d7c4",
   "metadata": {
    "collapsed": true,
    "jupyter": {
     "outputs_hidden": true
    }
   },
   "outputs": [
    {
     "name": "stdout",
     "output_type": "stream",
     "text": [
      "\n",
      "\n",
      "Building a new DB, current time: 10/30/2024 15:17:50\n",
      "New DB name:   /Users/jonathanwinkelman/Trestle_long-term-storage/Mukherjee_lab/mapping_to_Pseudomonas/recip_blast/blast_db/GCF_000007805.1/GCF_000007805.1_db\n",
      "New DB title:  ./Proteomes//GCF_000007805.1.faa\n",
      "Sequence type: Protein\n",
      "Keep MBits: T\n",
      "Maximum file size: 3000000000B\n",
      "Adding sequences from FASTA; added 5418 sequences in 0.165884 seconds.\n",
      "\n",
      "\n",
      "BLAST database created successfully of ./Proteomes//GCF_000007805.1.faa at ./blast_db/GCF_000007805.1/GCF_000007805.1_db (type: prot)\n",
      "\n",
      "\n",
      "Building a new DB, current time: 10/30/2024 15:17:50\n",
      "New DB name:   /Users/jonathanwinkelman/Trestle_long-term-storage/Mukherjee_lab/mapping_to_Pseudomonas/recip_blast/blast_db/GCF_000026645.1/GCF_000026645.1_db\n",
      "New DB title:  ./Proteomes//GCF_000026645.1.faa\n",
      "Sequence type: Protein\n",
      "Keep MBits: T\n",
      "Maximum file size: 3000000000B\n",
      "Adding sequences from FASTA; added 6016 sequences in 0.192834 seconds.\n",
      "\n",
      "\n",
      "BLAST database created successfully of ./Proteomes//GCF_000026645.1.faa at ./blast_db/GCF_000026645.1/GCF_000026645.1_db (type: prot)\n",
      "\n",
      "\n",
      "Building a new DB, current time: 10/30/2024 15:17:50\n",
      "New DB name:   /Users/jonathanwinkelman/Trestle_long-term-storage/Mukherjee_lab/mapping_to_Pseudomonas/recip_blast/blast_db/GCA_000014625.1/GCA_000014625.1_db\n",
      "New DB title:  ./Proteomes//GCA_000014625.1.faa\n",
      "Sequence type: Protein\n",
      "Keep MBits: T\n",
      "Maximum file size: 3000000000B\n",
      "Adding sequences from FASTA; added 5892 sequences in 0.225904 seconds.\n",
      "\n",
      "\n",
      "BLAST database created successfully of ./Proteomes//GCA_000014625.1.faa at ./blast_db/GCA_000014625.1/GCA_000014625.1_db (type: prot)\n",
      "./rblast_results_GCA_000014625_1_PA14_20480/forward_blast_results\n",
      "./rblast_results_GCA_000014625_1_PA14_20480/reference_db/reference_db\n",
      "\n",
      "\n",
      "Building a new DB, current time: 10/30/2024 15:17:51\n",
      "New DB name:   /Users/jonathanwinkelman/Trestle_long-term-storage/Mukherjee_lab/mapping_to_Pseudomonas/recip_blast/rblast_results_GCA_000014625_1_PA14_20480/reference_db/reference_db\n",
      "New DB title:  ./Proteomes/GCA_000014625.1.faa\n",
      "Sequence type: Protein\n",
      "Keep MBits: T\n",
      "Maximum file size: 3000000000B\n",
      "Adding sequences from FASTA; added 5892 sequences in 0.246259 seconds.\n",
      "\n",
      "\n",
      "BLAST database created successfully of ./Proteomes/GCA_000014625.1.faa at ./rblast_results_GCA_000014625_1_PA14_20480/reference_db/reference_db (type: prot)\n"
     ]
    }
   ],
   "source": [
    "rb.make_blastp_databases(proteome_dir, out_dir=database_dir, proteomes_to_include=accessions_to_include)\n",
    "rb.reciprocal_blastp(database_dir, \n",
    "                     query_file,\n",
    "                     out_dirname,\n",
    "                     proteome_dir, \n",
    "                     reference_proteome_path,\n",
    "                     accessions_to_include\n",
    "                    )\n",
    "df_rbhits = rb.get_full_best_hits_dict(out_dirname,query_protein_name, accession_length=15)"
   ]
  },
  {
   "cell_type": "code",
   "execution_count": 10,
   "id": "011f5212-6050-4109-8992-8e22c9eb9ad3",
   "metadata": {},
   "outputs": [
    {
     "data": {
      "text/html": [
       "<div>\n",
       "<style scoped>\n",
       "    .dataframe tbody tr th:only-of-type {\n",
       "        vertical-align: middle;\n",
       "    }\n",
       "\n",
       "    .dataframe tbody tr th {\n",
       "        vertical-align: top;\n",
       "    }\n",
       "\n",
       "    .dataframe thead th {\n",
       "        text-align: right;\n",
       "    }\n",
       "</style>\n",
       "<table border=\"1\" class=\"dataframe\">\n",
       "  <thead>\n",
       "    <tr style=\"text-align: right;\">\n",
       "      <th></th>\n",
       "      <th>forward_query</th>\n",
       "      <th>f_bbhit</th>\n",
       "      <th>r_bbhit</th>\n",
       "      <th>recip_best_hit</th>\n",
       "    </tr>\n",
       "    <tr>\n",
       "      <th>target_proteome</th>\n",
       "      <th></th>\n",
       "      <th></th>\n",
       "      <th></th>\n",
       "      <th></th>\n",
       "    </tr>\n",
       "  </thead>\n",
       "  <tbody>\n",
       "    <tr>\n",
       "      <th>GCF_000026645.1</th>\n",
       "      <td>ABJ12623.1</td>\n",
       "      <td>WP_003113127.1</td>\n",
       "      <td>ABJ12623.1</td>\n",
       "      <td>True</td>\n",
       "    </tr>\n",
       "    <tr>\n",
       "      <th>GCF_000007805.1</th>\n",
       "      <td>ABJ12623.1</td>\n",
       "      <td>WP_011102966.1</td>\n",
       "      <td>ABJ13915.1</td>\n",
       "      <td>False</td>\n",
       "    </tr>\n",
       "    <tr>\n",
       "      <th>GCA_000014625.1</th>\n",
       "      <td>ABJ12623.1</td>\n",
       "      <td>ABJ12623.1</td>\n",
       "      <td>ABJ12623.1</td>\n",
       "      <td>True</td>\n",
       "    </tr>\n",
       "  </tbody>\n",
       "</table>\n",
       "</div>"
      ],
      "text/plain": [
       "                forward_query         f_bbhit     r_bbhit  recip_best_hit\n",
       "target_proteome                                                          \n",
       "GCF_000026645.1    ABJ12623.1  WP_003113127.1  ABJ12623.1            True\n",
       "GCF_000007805.1    ABJ12623.1  WP_011102966.1  ABJ13915.1           False\n",
       "GCA_000014625.1    ABJ12623.1      ABJ12623.1  ABJ12623.1            True"
      ]
     },
     "execution_count": 10,
     "metadata": {},
     "output_type": "execute_result"
    }
   ],
   "source": [
    "df_rbhits"
   ]
  },
  {
   "cell_type": "code",
   "execution_count": null,
   "id": "b8bc8c90-5f04-4e0c-b578-67c36c18df78",
   "metadata": {},
   "outputs": [],
   "source": []
  },
  {
   "cell_type": "code",
   "execution_count": null,
   "id": "36a42f43-c71c-41cd-b8ef-40fe7b32f3ca",
   "metadata": {},
   "outputs": [],
   "source": []
  },
  {
   "cell_type": "code",
   "execution_count": 90,
   "id": "0f56470c-15df-4366-86b7-67e0601fb83f",
   "metadata": {},
   "outputs": [],
   "source": []
  },
  {
   "cell_type": "code",
   "execution_count": null,
   "id": "a22dbd37-b3c7-4c6a-a182-3afad2839fdf",
   "metadata": {},
   "outputs": [],
   "source": []
  },
  {
   "cell_type": "code",
   "execution_count": 126,
   "id": "4a2bc699-e4af-4c8b-9007-8e99de1fd133",
   "metadata": {},
   "outputs": [],
   "source": []
  },
  {
   "cell_type": "code",
   "execution_count": 127,
   "id": "c61f77bb-7c9c-4dc9-bd6c-c0dfaf7f4447",
   "metadata": {},
   "outputs": [],
   "source": []
  },
  {
   "cell_type": "code",
   "execution_count": 145,
   "id": "c751dedf-e038-419b-ae39-f201e7b596ad",
   "metadata": {},
   "outputs": [],
   "source": []
  },
  {
   "cell_type": "code",
   "execution_count": 139,
   "id": "75d7bc9e-5383-4441-950d-a3fa3a1ea9d0",
   "metadata": {},
   "outputs": [],
   "source": []
  },
  {
   "cell_type": "code",
   "execution_count": 141,
   "id": "1c6a6998-9838-434b-beab-4960af3f2fd8",
   "metadata": {},
   "outputs": [
    {
     "data": {
      "text/plain": [
       "'Pseudomonas aeruginosa HU20'"
      ]
     },
     "execution_count": 141,
     "metadata": {},
     "output_type": "execute_result"
    }
   ],
   "source": []
  },
  {
   "cell_type": "code",
   "execution_count": 115,
   "id": "94878400-2a2d-47ab-b090-a6e3ef05347f",
   "metadata": {},
   "outputs": [
    {
     "data": {
      "text/plain": [
       "GCF_001721765.1         clinical\n",
       "GCF_001721825.1         clinical\n",
       "GCF_002205355.1         clinical\n",
       "GCF_003369755.1         clinical\n",
       "GCF_004355145.1         clinical\n",
       "                       ...      \n",
       "GCF_001606045.1    environmental\n",
       "GCF_030028275.1    environmental\n",
       "GCF_022569895.1    environmental\n",
       "GCF_016105505.1    environmental\n",
       "GCF_022453765.1    environmental\n",
       "Name: Type, Length: 80, dtype: object"
      ]
     },
     "execution_count": 115,
     "metadata": {},
     "output_type": "execute_result"
    }
   ],
   "source": [
    "metadata_df['Type']"
   ]
  }
 ],
 "metadata": {
  "kernelspec": {
   "display_name": "Python 3 (ipykernel)",
   "language": "python",
   "name": "python3"
  },
  "language_info": {
   "codemirror_mode": {
    "name": "ipython",
    "version": 3
   },
   "file_extension": ".py",
   "mimetype": "text/x-python",
   "name": "python",
   "nbconvert_exporter": "python",
   "pygments_lexer": "ipython3",
   "version": "3.10.1"
  }
 },
 "nbformat": 4,
 "nbformat_minor": 5
}
