{
 "cells": [
  {
   "cell_type": "code",
   "execution_count": 10,
   "id": "10bed12a-4d13-4ff2-8141-e8808f208029",
   "metadata": {},
   "outputs": [],
   "source": [
    "if not os.path.exists('jw_utils'):\n",
    "    !git clone https://github.com/JonWinkelman/jw_utils.git\n",
    "import os\n",
    "import pandas as pd\n",
    "from jw_utils import parse_fasta as pfa\n",
    "from jw_utils import ncbi_utils as nu\n",
    "\n",
    "from Bio import Phylo\n",
    "from Bio import SeqIO\n",
    "from plotly.subplots import make_subplots\n",
    "from plotly import graph_objects as go\n",
    "import plotly.io as pio\n",
    "import reciprocal_blast as rb"
   ]
  },
  {
   "cell_type": "markdown",
   "id": "cf597c94-f701-4e0e-b7f3-d2682cdfaac4",
   "metadata": {},
   "source": [
    "### Fill out\n",
    "- need dir with fasta proteomes.\n",
    "- reference proteome file path, can be to a file within the proteome dir\n",
    "- query protein from reference in fasta format"
   ]
  },
  {
   "cell_type": "code",
   "execution_count": 5,
   "id": "e1c88938-bb2b-44b2-be2b-b28fd8261286",
   "metadata": {},
   "outputs": [],
   "source": [
    "#query_gene_name='PA14_20480'\n",
    "query_protein_name = 'ABJ12623.1'\n",
    "query_file = 'GCA_000014625_1_PA14_20480.faa'\n",
    "proteome_dir = './Proteomes/'\n",
    "reference_proteome_path = os.path.join(proteome_dir, 'GCA_000014625.1.faa')"
   ]
  },
  {
   "cell_type": "code",
   "execution_count": 6,
   "id": "8c9d5b78-6606-425f-b063-8fde2e0fe7a0",
   "metadata": {},
   "outputs": [],
   "source": [
    "database_dir = './blast_db/'\n",
    "out_dirname = './rblast_results_' + query_file.replace('.faa', '').strip('.').strip('/')\n",
    "accessions_to_include = [f.strip('.faa') for f in os.listdir(proteome_dir) if f.endswith('.faa')]"
   ]
  },
  {
   "cell_type": "code",
   "execution_count": 7,
   "id": "e6f14c8c-53d6-42a5-91c2-efbe9638d7c4",
   "metadata": {
    "collapsed": true,
    "jupyter": {
     "outputs_hidden": true
    }
   },
   "outputs": [
    {
     "name": "stdout",
     "output_type": "stream",
     "text": [
      "\n",
      "\n",
      "Building a new DB, current time: 10/30/2024 16:01:12\n",
      "New DB name:   /Users/jonathanwinkelman/Trestle_long-term-storage/Mukherjee_lab/mapping_to_Pseudomonas/reciprocal-blast/blast_db/GCF_000007805.1/GCF_000007805.1_db\n",
      "New DB title:  ./Proteomes//GCF_000007805.1.faa\n",
      "Sequence type: Protein\n",
      "Deleted existing Protein BLAST database named /Users/jonathanwinkelman/Trestle_long-term-storage/Mukherjee_lab/mapping_to_Pseudomonas/reciprocal-blast/blast_db/GCF_000007805.1/GCF_000007805.1_db\n",
      "Keep MBits: T\n",
      "Maximum file size: 3000000000B\n",
      "Adding sequences from FASTA; added 5418 sequences in 0.17426 seconds.\n",
      "\n",
      "\n",
      "BLAST database created successfully of ./Proteomes//GCF_000007805.1.faa at ./blast_db/GCF_000007805.1/GCF_000007805.1_db (type: prot)\n",
      "\n",
      "\n",
      "Building a new DB, current time: 10/30/2024 16:01:12\n",
      "New DB name:   /Users/jonathanwinkelman/Trestle_long-term-storage/Mukherjee_lab/mapping_to_Pseudomonas/reciprocal-blast/blast_db/GCF_000026645.1/GCF_000026645.1_db\n",
      "New DB title:  ./Proteomes//GCF_000026645.1.faa\n",
      "Sequence type: Protein\n",
      "Deleted existing Protein BLAST database named /Users/jonathanwinkelman/Trestle_long-term-storage/Mukherjee_lab/mapping_to_Pseudomonas/reciprocal-blast/blast_db/GCF_000026645.1/GCF_000026645.1_db\n",
      "Keep MBits: T\n",
      "Maximum file size: 3000000000B\n",
      "Adding sequences from FASTA; added 6016 sequences in 0.166277 seconds.\n",
      "\n",
      "\n",
      "BLAST database created successfully of ./Proteomes//GCF_000026645.1.faa at ./blast_db/GCF_000026645.1/GCF_000026645.1_db (type: prot)\n",
      "\n",
      "\n",
      "Building a new DB, current time: 10/30/2024 16:01:12\n",
      "New DB name:   /Users/jonathanwinkelman/Trestle_long-term-storage/Mukherjee_lab/mapping_to_Pseudomonas/reciprocal-blast/blast_db/GCA_000014625.1/GCA_000014625.1_db\n",
      "New DB title:  ./Proteomes//GCA_000014625.1.faa\n",
      "Sequence type: Protein\n",
      "Deleted existing Protein BLAST database named /Users/jonathanwinkelman/Trestle_long-term-storage/Mukherjee_lab/mapping_to_Pseudomonas/reciprocal-blast/blast_db/GCA_000014625.1/GCA_000014625.1_db\n",
      "Keep MBits: T\n",
      "Maximum file size: 3000000000B\n",
      "Adding sequences from FASTA; added 5892 sequences in 0.245658 seconds.\n",
      "\n",
      "\n",
      "BLAST database created successfully of ./Proteomes//GCA_000014625.1.faa at ./blast_db/GCA_000014625.1/GCA_000014625.1_db (type: prot)\n",
      "./rblast_results_GCA_000014625_1_PA14_20480/forward_blast_results\n",
      "./rblast_results_GCA_000014625_1_PA14_20480/reference_db/reference_db\n",
      "\n",
      "\n",
      "Building a new DB, current time: 10/30/2024 16:01:13\n",
      "New DB name:   /Users/jonathanwinkelman/Trestle_long-term-storage/Mukherjee_lab/mapping_to_Pseudomonas/reciprocal-blast/rblast_results_GCA_000014625_1_PA14_20480/reference_db/reference_db\n",
      "New DB title:  ./Proteomes/GCA_000014625.1.faa\n",
      "Sequence type: Protein\n",
      "Deleted existing Protein BLAST database named /Users/jonathanwinkelman/Trestle_long-term-storage/Mukherjee_lab/mapping_to_Pseudomonas/reciprocal-blast/rblast_results_GCA_000014625_1_PA14_20480/reference_db/reference_db\n",
      "Keep MBits: T\n",
      "Maximum file size: 3000000000B\n",
      "Adding sequences from FASTA; added 5892 sequences in 0.194094 seconds.\n",
      "\n",
      "\n",
      "BLAST database created successfully of ./Proteomes/GCA_000014625.1.faa at ./rblast_results_GCA_000014625_1_PA14_20480/reference_db/reference_db (type: prot)\n"
     ]
    }
   ],
   "source": [
    "rb.make_blastp_databases(proteome_dir, out_dir=database_dir, proteomes_to_include=accessions_to_include)\n",
    "rb.reciprocal_blastp(database_dir, \n",
    "                     query_file,\n",
    "                     out_dirname,\n",
    "                     proteome_dir, \n",
    "                     reference_proteome_path,\n",
    "                     accessions_to_include\n",
    "                    )\n",
    "df_rbhits = rb.get_full_best_hits_dict(out_dirname,query_protein_name, accession_length=15)"
   ]
  },
  {
   "cell_type": "code",
   "execution_count": 8,
   "id": "011f5212-6050-4109-8992-8e22c9eb9ad3",
   "metadata": {},
   "outputs": [],
   "source": [
    "df_rbhits.to_csv('results.csv')"
   ]
  },
  {
   "cell_type": "code",
   "execution_count": null,
   "id": "b8bc8c90-5f04-4e0c-b578-67c36c18df78",
   "metadata": {},
   "outputs": [],
   "source": []
  },
  {
   "cell_type": "code",
   "execution_count": null,
   "id": "36a42f43-c71c-41cd-b8ef-40fe7b32f3ca",
   "metadata": {},
   "outputs": [],
   "source": []
  },
  {
   "cell_type": "code",
   "execution_count": 90,
   "id": "0f56470c-15df-4366-86b7-67e0601fb83f",
   "metadata": {},
   "outputs": [],
   "source": []
  },
  {
   "cell_type": "code",
   "execution_count": null,
   "id": "a22dbd37-b3c7-4c6a-a182-3afad2839fdf",
   "metadata": {},
   "outputs": [],
   "source": []
  },
  {
   "cell_type": "code",
   "execution_count": 126,
   "id": "4a2bc699-e4af-4c8b-9007-8e99de1fd133",
   "metadata": {},
   "outputs": [],
   "source": []
  },
  {
   "cell_type": "code",
   "execution_count": 127,
   "id": "c61f77bb-7c9c-4dc9-bd6c-c0dfaf7f4447",
   "metadata": {},
   "outputs": [],
   "source": []
  },
  {
   "cell_type": "code",
   "execution_count": 145,
   "id": "c751dedf-e038-419b-ae39-f201e7b596ad",
   "metadata": {},
   "outputs": [],
   "source": []
  },
  {
   "cell_type": "code",
   "execution_count": 139,
   "id": "75d7bc9e-5383-4441-950d-a3fa3a1ea9d0",
   "metadata": {},
   "outputs": [],
   "source": []
  },
  {
   "cell_type": "code",
   "execution_count": 141,
   "id": "1c6a6998-9838-434b-beab-4960af3f2fd8",
   "metadata": {},
   "outputs": [
    {
     "data": {
      "text/plain": [
       "'Pseudomonas aeruginosa HU20'"
      ]
     },
     "execution_count": 141,
     "metadata": {},
     "output_type": "execute_result"
    }
   ],
   "source": []
  },
  {
   "cell_type": "code",
   "execution_count": 115,
   "id": "94878400-2a2d-47ab-b090-a6e3ef05347f",
   "metadata": {},
   "outputs": [
    {
     "data": {
      "text/plain": [
       "GCF_001721765.1         clinical\n",
       "GCF_001721825.1         clinical\n",
       "GCF_002205355.1         clinical\n",
       "GCF_003369755.1         clinical\n",
       "GCF_004355145.1         clinical\n",
       "                       ...      \n",
       "GCF_001606045.1    environmental\n",
       "GCF_030028275.1    environmental\n",
       "GCF_022569895.1    environmental\n",
       "GCF_016105505.1    environmental\n",
       "GCF_022453765.1    environmental\n",
       "Name: Type, Length: 80, dtype: object"
      ]
     },
     "execution_count": 115,
     "metadata": {},
     "output_type": "execute_result"
    }
   ],
   "source": [
    "metadata_df['Type']"
   ]
  }
 ],
 "metadata": {
  "kernelspec": {
   "display_name": "Python 3 (ipykernel)",
   "language": "python",
   "name": "python3"
  },
  "language_info": {
   "codemirror_mode": {
    "name": "ipython",
    "version": 3
   },
   "file_extension": ".py",
   "mimetype": "text/x-python",
   "name": "python",
   "nbconvert_exporter": "python",
   "pygments_lexer": "ipython3",
   "version": "3.10.1"
  }
 },
 "nbformat": 4,
 "nbformat_minor": 5
}
